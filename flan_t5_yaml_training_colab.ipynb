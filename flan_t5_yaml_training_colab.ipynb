{
 "cells": [
  {
   "cell_type": "markdown",
   "id": "cc158545",
   "metadata": {},
   "source": [
    "# 🚀 Fine-tune `flan-t5-small` to Generate YAML Specs from Natural Prompts (Colab-Compatible)"
   ]
  },
  {
   "cell_type": "code",
   "execution_count": null,
   "id": "cca48db2",
   "metadata": {},
   "outputs": [],
   "source": [
    "# ✅ Install minimal required packages (safe with NumPy 2.0.2)\n",
    "!pip install transformers datasets --quiet\n"
   ]
  },
  {
   "cell_type": "code",
   "execution_count": null,
   "id": "d882b995",
   "metadata": {},
   "outputs": [],
   "source": [
    "from google.colab import files\n",
    "uploaded = files.upload()\n",
    "file_name = list(uploaded.keys())[0]\n"
   ]
  },
  {
   "cell_type": "code",
   "execution_count": null,
   "id": "440de7e7",
   "metadata": {},
   "outputs": [],
   "source": [
    "import json\n",
    "from datasets import Dataset\n",
    "\n",
    "with open(file_name, 'r') as f:\n",
    "    raw_data = [json.loads(line) for line in f.readlines()]\n",
    "\n",
    "dataset = Dataset.from_list(raw_data).train_test_split(test_size=0.1)\n",
    "dataset\n"
   ]
  },
  {
   "cell_type": "code",
   "execution_count": null,
   "id": "f2b14eea",
   "metadata": {},
   "outputs": [],
   "source": [
    "from transformers import AutoTokenizer, AutoModelForSeq2SeqLM\n",
    "\n",
    "model_id = \"google/flan-t5-small\"\n",
    "tokenizer = AutoTokenizer.from_pretrained(model_id)\n",
    "model = AutoModelForSeq2SeqLM.from_pretrained(model_id)\n"
   ]
  },
  {
   "cell_type": "code",
   "execution_count": null,
   "id": "de7527e9",
   "metadata": {},
   "outputs": [],
   "source": [
    "max_input_len = 256\n",
    "max_target_len = 512\n",
    "\n",
    "def tokenize(example):\n",
    "    input_enc = tokenizer(example[\"inputs\"], max_length=max_input_len, truncation=True, padding=\"max_length\")\n",
    "    target_enc = tokenizer(example[\"targets\"], max_length=max_target_len, truncation=True, padding=\"max_length\")\n",
    "    input_enc[\"labels\"] = target_enc[\"input_ids\"]\n",
    "    return input_enc\n",
    "\n",
    "tokenized = dataset.map(tokenize, remove_columns=[\"inputs\", \"targets\"])\n"
   ]
  },
  {
   "cell_type": "code",
   "execution_count": null,
   "id": "c02461dc",
   "metadata": {},
   "outputs": [],
   "source": [
    "from transformers import Seq2SeqTrainer, Seq2SeqTrainingArguments, DataCollatorForSeq2Seq\n",
    "\n",
    "training_args = Seq2SeqTrainingArguments(\n",
    "    output_dir=\"./results\",\n",
    "    evaluation_strategy=\"epoch\",\n",
    "    report_to=\"none\",\n",
    "    learning_rate=3e-4,\n",
    "    per_device_train_batch_size=4,\n",
    "    per_device_eval_batch_size=4,\n",
    "    num_train_epochs=5,\n",
    "    weight_decay=0.01,\n",
    "    save_strategy=\"epoch\",\n",
    "    predict_with_generate=True,\n",
    "    fp16=False,\n",
    "    logging_dir=\"./logs\"\n",
    ")\n",
    "\n",
    "trainer = Seq2SeqTrainer(\n",
    "    model=model,\n",
    "    args=training_args,\n",
    "    train_dataset=tokenized[\"train\"],\n",
    "    eval_dataset=tokenized[\"test\"],\n",
    "    tokenizer=tokenizer,\n",
    "    data_collator=DataCollatorForSeq2Seq(tokenizer)\n",
    ")\n"
   ]
  },
  {
   "cell_type": "code",
   "execution_count": null,
   "id": "1bb0024b",
   "metadata": {},
   "outputs": [],
   "source": [
    "trainer.train()"
   ]
  },
  {
   "cell_type": "markdown",
   "id": "27b8d0fe",
   "metadata": {},
   "source": [
    "## 🔍 Inference: Generate YAML from Prompt"
   ]
  },
  {
   "cell_type": "code",
   "execution_count": null,
   "id": "9dc46646",
   "metadata": {},
   "outputs": [],
   "source": [
    "prompt = \"Design an API to list all tickets with title, description, priority, and status.\"\n",
    "inputs = tokenizer(prompt, return_tensors=\"pt\").input_ids\n",
    "outputs = model.generate(inputs, max_new_tokens=512)\n",
    "yaml_output = tokenizer.decode(outputs[0], skip_special_tokens=True)\n",
    "\n",
    "with open(\"generated_spec.yaml\", \"w\") as f:\n",
    "    f.write(yaml_output)\n",
    "\n",
    "print(\"📄 Generated YAML:\")\n",
    "print(yaml_output)\n"
   ]
  }
 ],
 "metadata": {},
 "nbformat": 4,
 "nbformat_minor": 5
}
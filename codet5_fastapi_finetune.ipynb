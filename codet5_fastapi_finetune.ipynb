{
 "cells": [
  {
   "cell_type": "markdown",
   "id": "ad97c2c2",
   "metadata": {},
   "source": [
    "# Fine-tune CodeT5 (Salesforce/codet5-small) for FastAPI Code Generation"
   ]
  },
  {
   "cell_type": "markdown",
   "id": "e4d845b8",
   "metadata": {},
   "source": [
    "## Section 1: Install Dependencies"
   ]
  },
  {
   "cell_type": "code",
   "execution_count": null,
   "id": "13f4a0ec",
   "metadata": {},
   "outputs": [],
   "source": [
    "!pip install -q transformers datasets accelerate\n",
    "!pip install -q huggingface_hub"
   ]
  },
  {
   "cell_type": "markdown",
   "id": "c2b12dac",
   "metadata": {},
   "source": [
    "## Section 2: Upload `.jsonl` Dataset or Load from Google Drive"
   ]
  },
  {
   "cell_type": "code",
   "execution_count": null,
   "id": "2bb52872",
   "metadata": {},
   "outputs": [],
   "source": [
    "from google.colab import files\n",
    "import json\n",
    "\n",
    "uploaded = files.upload()\n",
    "\n",
    "import os\n",
    "import pandas as pd\n",
    "\n",
    "filename = list(uploaded.keys())[0]\n",
    "dataset = []\n",
    "with open(filename, 'r') as f:\n",
    "    for line in f:\n",
    "        dataset.append(json.loads(line))\n",
    "\n",
    "print(\"Sample record:\", dataset[0])"
   ]
  },
  {
   "cell_type": "markdown",
   "id": "2c27aa1f",
   "metadata": {},
   "source": [
    "## Section 3: Tokenization"
   ]
  },
  {
   "cell_type": "code",
   "execution_count": null,
   "id": "5ac0369b",
   "metadata": {},
   "outputs": [],
   "source": [
    "from transformers import AutoTokenizer\n",
    "\n",
    "tokenizer = AutoTokenizer.from_pretrained(\"Salesforce/codet5-small\")\n",
    "\n",
    "max_source_length = 512\n",
    "max_target_length = 512\n",
    "\n",
    "def preprocess_data(examples):\n",
    "    inputs = tokenizer(examples['inputs'], max_length=max_source_length, padding=\"max_length\", truncation=True)\n",
    "    targets = tokenizer(examples['targets'], max_length=max_target_length, padding=\"max_length\", truncation=True)\n",
    "    inputs[\"labels\"] = targets[\"input_ids\"]\n",
    "    return inputs\n",
    "\n",
    "from datasets import Dataset\n",
    "hf_dataset = Dataset.from_list(dataset)\n",
    "tokenized_dataset = hf_dataset.map(preprocess_data, batched=True)"
   ]
  },
  {
   "cell_type": "markdown",
   "id": "597cfa08",
   "metadata": {},
   "source": [
    "## Section 4: Model Fine-Tuning with Trainer"
   ]
  },
  {
   "cell_type": "code",
   "execution_count": null,
   "id": "30920f2c",
   "metadata": {},
   "outputs": [],
   "source": [
    "from transformers import AutoModelForSeq2SeqLM, TrainingArguments, Trainer\n",
    "\n",
    "model = AutoModelForSeq2SeqLM.from_pretrained(\"Salesforce/codet5-small\")\n",
    "\n",
    "training_args = TrainingArguments(\n",
    "    output_dir=\"./codet5_finetuned_fastapi\",\n",
    "    per_device_train_batch_size=4,\n",
    "    num_train_epochs=2,\n",
    "    logging_dir=\"./logs\",\n",
    "    logging_steps=10,\n",
    "    save_strategy=\"epoch\",\n",
    "    report_to=\"none\"\n",
    ")\n",
    "\n",
    "trainer = Trainer(\n",
    "    model=model,\n",
    "    args=training_args,\n",
    "    train_dataset=tokenized_dataset,\n",
    "    tokenizer=tokenizer\n",
    ")\n",
    "\n",
    "trainer.train()"
   ]
  },
  {
   "cell_type": "markdown",
   "id": "106e148d",
   "metadata": {},
   "source": [
    "## Section 5: Evaluate on a New Prompt"
   ]
  },
  {
   "cell_type": "code",
   "execution_count": null,
   "id": "2b15757b",
   "metadata": {},
   "outputs": [],
   "source": [
    "def generate_code(prompt):\n",
    "    inputs = tokenizer(prompt, return_tensors=\"pt\", padding=True, truncation=True).to(model.device)\n",
    "    output = model.generate(**inputs, max_length=512)\n",
    "    return tokenizer.decode(output[0], skip_special_tokens=True)\n",
    "\n",
    "sample_prompt = \"\"\"Create a FastAPI microservice to return all distinct environments from a devices table.\n",
    "\n",
    "Table Design:\n",
    "Table: devices\n",
    "Columns:\n",
    "- id: integer, primary key\n",
    "- device_id: varchar(64)\n",
    "- hostname: varchar(64)\n",
    "- application: varchar(32)\n",
    "- environment: varchar(16)\n",
    "- os_type: varchar(16)\n",
    "- os_version: varchar(16)\n",
    "- tech_stack: varchar(64)\n",
    "\"\"\"\n",
    "\n",
    "print(generate_code(sample_prompt))"
   ]
  },
  {
   "cell_type": "markdown",
   "id": "93336fb6",
   "metadata": {},
   "source": [
    "## Section 6: Save Model and Tokenizer"
   ]
  },
  {
   "cell_type": "code",
   "execution_count": null,
   "id": "172206ec",
   "metadata": {},
   "outputs": [],
   "source": [
    "model.save_pretrained(\"codet5_finetuned_fastapi\")\n",
    "tokenizer.save_pretrained(\"codet5_finetuned_fastapi\")\n",
    "!zip -r codet5_finetuned_fastapi.zip codet5_finetuned_fastapi\n",
    "from google.colab import files\n",
    "files.download(\"codet5_finetuned_fastapi.zip\")"
   ]
  },
  {
   "cell_type": "markdown",
   "id": "71a8058c",
   "metadata": {},
   "source": [
    "## Section 7: Notes for GitHub + Colab"
   ]
  },
  {
   "cell_type": "code",
   "execution_count": null,
   "id": "ce32c6c2",
   "metadata": {},
   "outputs": [],
   "source": [
    "# Save this notebook as `codet5_fastapi_finetune.ipynb`\n",
    "# Push to a public GitHub repo and use the following badge in README:\n",
    "[![Open In Colab](https://colab.research.google.com/assets/colab-badge.svg)](https://colab.research.google.com/github/yourusername/yourrepo/blob/main/codet5_fastapi_finetune.ipynb)"
   ]
  }
 ],
 "metadata": {
  "language_info": {
   "name": "python"
  }
 },
 "nbformat": 4,
 "nbformat_minor": 5
}

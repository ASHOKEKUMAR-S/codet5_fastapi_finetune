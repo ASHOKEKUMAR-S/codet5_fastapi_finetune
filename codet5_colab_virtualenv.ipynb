{
 "cells": [
  {
   "cell_type": "markdown",
   "id": "bf3d61ac",
   "metadata": {},
   "source": [
    "# ✅ Codet5 YAML Generator — Colab Clean Environment Setup\n",
    "\n",
    "This notebook trains `Salesforce/codet5-small` to generate YAML specs from natural language using a **dedicated virtual environment** to avoid dependency issues."
   ]
  },
  {
   "cell_type": "code",
   "execution_count": null,
   "id": "919f6aba",
   "metadata": {},
   "outputs": [],
   "source": [
    "# 🔒 Create isolated clean environment inside Colab\n",
    "!python -m venv /content/env\n",
    "!source /content/env/bin/activate && pip install --upgrade pip\n",
    "!source /content/env/bin/activate && pip install transformers==4.41.2 peft==0.10.0 datasets accelerate --no-cache-dir --quiet\n"
   ]
  },
  {
   "cell_type": "code",
   "execution_count": null,
   "id": "835cb140",
   "metadata": {},
   "outputs": [],
   "source": [
    "from google.colab import files\n",
    "uploaded = files.upload()\n",
    "file_name = list(uploaded.keys())[0]\n"
   ]
  },
  {
   "cell_type": "code",
   "execution_count": null,
   "id": "156c6d84",
   "metadata": {},
   "outputs": [],
   "source": [
    "import json\n",
    "from datasets import Dataset\n",
    "\n",
    "with open(file_name, 'r') as f:\n",
    "    raw_data = [json.loads(line) for line in f.readlines()]\n",
    "\n",
    "dataset = Dataset.from_list(raw_data).train_test_split(test_size=0.1)\n",
    "dataset\n"
   ]
  },
  {
   "cell_type": "code",
   "execution_count": null,
   "id": "8690241e",
   "metadata": {},
   "outputs": [],
   "source": [
    "from transformers import AutoTokenizer, AutoModelForSeq2SeqLM\n",
    "\n",
    "model_id = \"Salesforce/codet5-small\"\n",
    "tokenizer = AutoTokenizer.from_pretrained(model_id)\n",
    "model = AutoModelForSeq2SeqLM.from_pretrained(model_id)\n"
   ]
  },
  {
   "cell_type": "code",
   "execution_count": null,
   "id": "0dba451f",
   "metadata": {},
   "outputs": [],
   "source": [
    "max_input_len = 256\n",
    "max_target_len = 512\n",
    "\n",
    "def tokenize(example):\n",
    "    input_enc = tokenizer(example[\"inputs\"], max_length=max_input_len, padding=\"max_length\", truncation=True)\n",
    "    target_enc = tokenizer(example[\"targets\"], max_length=max_target_len, padding=\"max_length\", truncation=True)\n",
    "    input_enc[\"labels\"] = target_enc[\"input_ids\"]\n",
    "    return input_enc\n",
    "\n",
    "tokenized = dataset.map(tokenize, remove_columns=[\"inputs\", \"targets\"])\n"
   ]
  },
  {
   "cell_type": "code",
   "execution_count": null,
   "id": "a969ef61",
   "metadata": {},
   "outputs": [],
   "source": [
    "import torch\n",
    "from transformers import Seq2SeqTrainingArguments, Seq2SeqTrainer, DataCollatorForSeq2Seq\n",
    "\n",
    "training_args = Seq2SeqTrainingArguments(\n",
    "    output_dir=\"./results\",\n",
    "    eval_strategy=\"epoch\",\n",
    "    report_to=\"none\",\n",
    "    learning_rate=5e-5,\n",
    "    per_device_train_batch_size=4,\n",
    "    per_device_eval_batch_size=4,\n",
    "    num_train_epochs=5,\n",
    "    weight_decay=0.01,\n",
    "    save_strategy=\"epoch\",\n",
    "    predict_with_generate=True,\n",
    "    fp16=torch.cuda.is_available(),\n",
    "    logging_dir=\"./logs\"\n",
    ")\n",
    "\n",
    "trainer = Seq2SeqTrainer(\n",
    "    model=model,\n",
    "    args=training_args,\n",
    "    train_dataset=tokenized[\"train\"],\n",
    "    eval_dataset=tokenized[\"test\"],\n",
    "    tokenizer=tokenizer,\n",
    "    data_collator=DataCollatorForSeq2Seq(tokenizer)\n",
    ")\n"
   ]
  },
  {
   "cell_type": "code",
   "execution_count": null,
   "id": "677defc0",
   "metadata": {},
   "outputs": [],
   "source": [
    "trainer.train()"
   ]
  },
  {
   "cell_type": "code",
   "execution_count": null,
   "id": "a5953e78",
   "metadata": {},
   "outputs": [],
   "source": [
    "prompt = \"Design an API to list all logs with timestamp, level, message, and source.\"\n",
    "inputs = tokenizer(prompt, return_tensors=\"pt\").input_ids\n",
    "outputs = model.generate(inputs, max_new_tokens=512)\n",
    "yaml_output = tokenizer.decode(outputs[0], skip_special_tokens=True)\n",
    "\n",
    "with open(\"generated_spec.yaml\", \"w\") as f:\n",
    "    f.write(yaml_output)\n",
    "\n",
    "print(\"📄 Generated YAML:\")\n",
    "print(yaml_output)\n"
   ]
  }
 ],
 "metadata": {},
 "nbformat": 4,
 "nbformat_minor": 5
}
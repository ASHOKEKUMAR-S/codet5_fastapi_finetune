{
 "cells": [
  {
   "cell_type": "markdown",
   "id": "ce0b0630",
   "metadata": {},
   "source": [
    "# Fine-tune CodeT5 to Generate YAML API Specs from Natural Language"
   ]
  },
  {
   "cell_type": "code",
   "execution_count": null,
   "id": "ea7a58ab",
   "metadata": {},
   "outputs": [],
   "source": [
    "!pip install transformers datasets peft trl accelerate evaluate --quiet"
   ]
  },
  {
   "cell_type": "code",
   "execution_count": null,
   "id": "a88ff74c",
   "metadata": {},
   "outputs": [],
   "source": [
    "\n",
    "from datasets import load_dataset, Dataset\n",
    "import json\n",
    "\n",
    "# Upload your JSONL training file in Colab\n",
    "from google.colab import files\n",
    "uploaded = files.upload()\n",
    "\n",
    "file_name = list(uploaded.keys())[0]\n",
    "with open(file_name, 'r') as f:\n",
    "    lines = [json.loads(l) for l in f.readlines()]\n",
    "\n",
    "dataset = Dataset.from_list(lines)\n",
    "dataset = dataset.train_test_split(test_size=0.1)\n",
    "dataset\n"
   ]
  },
  {
   "cell_type": "code",
   "execution_count": null,
   "id": "60c980d8",
   "metadata": {},
   "outputs": [],
   "source": [
    "\n",
    "from transformers import AutoTokenizer, AutoModelForSeq2SeqLM, Seq2SeqTrainer, Seq2SeqTrainingArguments, DataCollatorForSeq2Seq\n",
    "\n",
    "model_name = \"Salesforce/codet5-small\"\n",
    "tokenizer = AutoTokenizer.from_pretrained(model_name)\n",
    "model = AutoModelForSeq2SeqLM.from_pretrained(model_name)\n"
   ]
  },
  {
   "cell_type": "code",
   "execution_count": null,
   "id": "03f7a63e",
   "metadata": {},
   "outputs": [],
   "source": [
    "\n",
    "max_input_len = 256\n",
    "max_target_len = 512\n",
    "\n",
    "def preprocess(example):\n",
    "    inputs = tokenizer(example[\"inputs\"], max_length=max_input_len, truncation=True, padding=\"max_length\")\n",
    "    targets = tokenizer(example[\"targets\"], max_length=max_target_len, truncation=True, padding=\"max_length\")\n",
    "    inputs[\"labels\"] = targets[\"input_ids\"]\n",
    "    return inputs\n",
    "\n",
    "tokenized_dataset = dataset.map(preprocess, remove_columns=dataset[\"train\"].column_names)\n"
   ]
  },
  {
   "cell_type": "code",
   "execution_count": null,
   "id": "60e615d2",
   "metadata": {},
   "outputs": [],
   "source": [
    "\n",
    "training_args = Seq2SeqTrainingArguments(\n",
    "    output_dir=\"./results\",\n",
    "    evaluation_strategy=\"epoch\",\n",
    "    learning_rate=5e-5,\n",
    "    per_device_train_batch_size=4,\n",
    "    per_device_eval_batch_size=4,\n",
    "    weight_decay=0.01,\n",
    "    save_total_limit=2,\n",
    "    num_train_epochs=5,\n",
    "    predict_with_generate=True,\n",
    "    logging_dir=\"./logs\",\n",
    "    fp16=False\n",
    ")\n",
    "\n",
    "trainer = Seq2SeqTrainer(\n",
    "    model=model,\n",
    "    args=training_args,\n",
    "    train_dataset=tokenized_dataset[\"train\"],\n",
    "    eval_dataset=tokenized_dataset[\"test\"],\n",
    "    tokenizer=tokenizer,\n",
    "    data_collator=DataCollatorForSeq2Seq(tokenizer, model=model)\n",
    ")\n"
   ]
  },
  {
   "cell_type": "code",
   "execution_count": null,
   "id": "573d6115",
   "metadata": {},
   "outputs": [],
   "source": [
    "trainer.train()"
   ]
  },
  {
   "cell_type": "markdown",
   "id": "e3be769d",
   "metadata": {},
   "source": [
    "## Inference: Generate YAML from Natural Language Instruction"
   ]
  },
  {
   "cell_type": "code",
   "execution_count": null,
   "id": "87547e9b",
   "metadata": {},
   "outputs": [],
   "source": [
    "\n",
    "prompt = \"Design an API to list all logs with timestamp, level, message, and source.\"\n",
    "inputs = tokenizer(prompt, return_tensors=\"pt\").input_ids\n",
    "outputs = model.generate(inputs, max_new_tokens=512)\n",
    "yaml_result = tokenizer.decode(outputs[0], skip_special_tokens=True)\n",
    "\n",
    "# Save for downstream use\n",
    "with open(\"generated_spec.yaml\", \"w\") as f:\n",
    "    f.write(yaml_result)\n",
    "\n",
    "print(yaml_result)\n"
   ]
  }
 ],
 "metadata": {},
 "nbformat": 4,
 "nbformat_minor": 5
}
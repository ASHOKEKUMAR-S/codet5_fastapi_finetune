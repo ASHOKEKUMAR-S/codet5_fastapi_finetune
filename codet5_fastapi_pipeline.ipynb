{
 "cells": [
  {
   "cell_type": "markdown",
   "id": "88cbec90",
   "metadata": {},
   "source": [
    "# Auto-Generated FastAPI Pipeline Notebook\n",
    "\n",
    "This notebook fine-tunes CodeT5, generates FastAPI code, UT/FT, injects into a template, zips, and can push to GitHub."
   ]
  },
  {
   "cell_type": "code",
   "execution_count": null,
   "id": "bb7ec2c5",
   "metadata": {},
   "outputs": [],
   "source": [
    "# Replace with your actual repo URL\n",
    "!git clone https://github.com/ASHOKEKUMAR-S/codet5_fastapi_finetune.git\n",
    "\n",
    "# Change directory into the repo\n",
    "%cd codet5-fastapi-pipeline\n"
   ]
  },
  {
   "cell_type": "markdown",
   "id": "bfef48a1",
   "metadata": {},
   "source": [
    "## SECTION 1: Upload your .jsonl training data"
   ]
  },
  {
   "cell_type": "code",
   "execution_count": null,
   "id": "435e0f21",
   "metadata": {},
   "outputs": [],
   "source": [
    "from google.colab import files\n",
    "import json\n",
    "\n",
    "uploaded = files.upload()\n",
    "filename = list(uploaded.keys())[0]\n",
    "with open(filename, 'r') as f:\n",
    "    dataset = [json.loads(line) for line in f]\n",
    "\n",
    "print(\"Sample record:\", dataset[0])"
   ]
  },
  {
   "cell_type": "markdown",
   "id": "e5c8e16b",
   "metadata": {},
   "source": [
    "## SECTION 2: Tokenize training data"
   ]
  },
  {
   "cell_type": "code",
   "execution_count": null,
   "id": "f1fab6e4",
   "metadata": {},
   "outputs": [],
   "source": [
    "from transformers import AutoTokenizer\n",
    "from datasets import Dataset\n",
    "\n",
    "tokenizer = AutoTokenizer.from_pretrained(\"Salesforce/codet5-small\")\n",
    "max_source_length = 512\n",
    "max_target_length = 512\n",
    "\n",
    "def preprocess_data(examples):\n",
    "    inputs = tokenizer(examples['inputs'], max_length=max_source_length, padding=\"max_length\", truncation=True)\n",
    "    targets = tokenizer(examples['targets'], max_length=max_target_length, padding=\"max_length\", truncation=True)\n",
    "    inputs[\"labels\"] = targets[\"input_ids\"]\n",
    "    return inputs\n",
    "\n",
    "hf_dataset = Dataset.from_list(dataset)\n",
    "tokenized_dataset = hf_dataset.map(preprocess_data, batched=True)"
   ]
  },
  {
   "cell_type": "markdown",
   "id": "02f206df",
   "metadata": {},
   "source": [
    "## SECTION 3: Fine-tune CodeT5 model"
   ]
  },
  {
   "cell_type": "code",
   "execution_count": null,
   "id": "fc1317c5",
   "metadata": {},
   "outputs": [],
   "source": [
    "from transformers import AutoModelForSeq2SeqLM, TrainingArguments, Trainer\n",
    "\n",
    "model = AutoModelForSeq2SeqLM.from_pretrained(\"Salesforce/codet5-small\")\n",
    "\n",
    "training_args = TrainingArguments(\n",
    "    output_dir=\"./codet5_finetuned_fastapi\",\n",
    "    per_device_train_batch_size=4,\n",
    "    num_train_epochs=2,\n",
    "    logging_dir=\"./logs\",\n",
    "    logging_steps=10,\n",
    "    save_strategy=\"epoch\",\n",
    "    report_to=\"none\"\n",
    ")\n",
    "\n",
    "trainer = Trainer(\n",
    "    model=model,\n",
    "    args=training_args,\n",
    "    train_dataset=tokenized_dataset,\n",
    "    tokenizer=tokenizer\n",
    ")\n",
    "\n",
    "trainer.train()"
   ]
  },
  {
   "cell_type": "markdown",
   "id": "5248b075",
   "metadata": {},
   "source": [
    "## SECTION 4: Generate FastAPI code from a prompt"
   ]
  },
  {
   "cell_type": "code",
   "execution_count": null,
   "id": "a6b95869",
   "metadata": {},
   "outputs": [],
   "source": [
    "def generate_code(prompt):\n",
    "    inputs = tokenizer(prompt, return_tensors=\"pt\", padding=True, truncation=True).to(model.device)\n",
    "    output = model.generate(**inputs, max_length=512)\n",
    "    return tokenizer.decode(output[0], skip_special_tokens=True)\n",
    "\n",
    "sample_prompt = \"\"\"Create a FastAPI microservice to return all distinct environments from a devices table.\n",
    "\n",
    "Table Design:\n",
    "Table: devices\n",
    "Columns:\n",
    "- id: integer, primary key\n",
    "- device_id: varchar(64)\n",
    "- hostname: varchar(64)\n",
    "- application: varchar(32)\n",
    "- environment: varchar(16)\n",
    "- os_type: varchar(16)\n",
    "- os_version: varchar(16)\n",
    "- tech_stack: varchar(64)\n",
    "\"\"\"\n",
    "\n",
    "generated_code = generate_code(sample_prompt)\n",
    "\n",
    "with open(\"generated_fastapi_code.py\", \"w\") as f:\n",
    "    f.write(generated_code)\n",
    "\n",
    "print(\"Code saved to generated_fastapi_code.py\")"
   ]
  },
  {
   "cell_type": "markdown",
   "id": "cddc8320",
   "metadata": {},
   "source": [
    "## SECTION 5: Split and inject into template folder"
   ]
  },
  {
   "cell_type": "code",
   "execution_count": null,
   "id": "a65f99a1",
   "metadata": {},
   "outputs": [],
   "source": [
    "import os\n",
    "\n",
    "with open(\"generated_fastapi_code.py\", \"r\") as f:\n",
    "    code = f.read()\n",
    "\n",
    "if '# <models.py>' in code and '# <routes.py>' in code:\n",
    "    model_code = code.split('# <models.py>')[1].split('# <routes.py>')[0].strip()\n",
    "    route_code = code.split('# <routes.py>')[1].strip()\n",
    "\n",
    "    with open(\"app/models.py\", \"w\") as f:\n",
    "        f.write(model_code)\n",
    "\n",
    "    with open(\"app/routes.py\", \"w\") as f:\n",
    "        f.write(route_code)\n",
    "\n",
    "    print(\"Injected into app/models.py and app/routes.py\")\n",
    "else:\n",
    "    print(\"⚠️ Expected code markers not found.\")"
   ]
  },
  {
   "cell_type": "markdown",
   "id": "c6706373",
   "metadata": {},
   "source": [
    "## SECTION 6: Generate unit test (optional)"
   ]
  },
  {
   "cell_type": "code",
   "execution_count": null,
   "id": "2b0fb66b",
   "metadata": {},
   "outputs": [],
   "source": [
    "test_prompt = f\"\"\"Generate pytest unit tests for the following FastAPI route:\n",
    "\n",
    "```python\n",
    "{route_code}\n",
    "```\n",
    "\"\"\"\n",
    "\n",
    "test_code = generate_code(test_prompt)\n",
    "\n",
    "with open(\"tests/test_unit.py\", \"w\") as f:\n",
    "    f.write(test_code)\n",
    "\n",
    "print(\"✅ Unit test saved to tests/test_unit.py\")"
   ]
  },
  {
   "cell_type": "markdown",
   "id": "94d4e504",
   "metadata": {},
   "source": [
    "## SECTION 7: Generate functional test (optional)"
   ]
  },
  {
   "cell_type": "code",
   "execution_count": null,
   "id": "087c6154",
   "metadata": {},
   "outputs": [],
   "source": [
    "ft_prompt = f\"\"\"Generate functional tests for this FastAPI app using TestClient:\n",
    "\n",
    "```python\n",
    "{route_code}\n",
    "```\n",
    "\"\"\"\n",
    "\n",
    "ft_code = generate_code(ft_prompt)\n",
    "\n",
    "with open(\"tests/test_functional.py\", \"w\") as f:\n",
    "    f.write(ft_code)\n",
    "\n",
    "print(\"✅ Functional test saved to tests/test_functional.py\")"
   ]
  },
  {
   "cell_type": "markdown",
   "id": "1f3b6dc0",
   "metadata": {},
   "source": [
    "## SECTION 8: Zip final app for delivery"
   ]
  },
  {
   "cell_type": "code",
   "execution_count": null,
   "id": "6e289909",
   "metadata": {},
   "outputs": [],
   "source": [
    "import shutil\n",
    "\n",
    "shutil.make_archive(\"final_fastapi_app\", 'zip', \".\")\n",
    "print(\"🎉 Final app zipped: final_fastapi_app.zip\")"
   ]
  }
 ],
 "metadata": {
  "language_info": {
   "name": "python"
  }
 },
 "nbformat": 4,
 "nbformat_minor": 5
}
